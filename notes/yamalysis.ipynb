{
 "cells": [
  {
   "cell_type": "markdown",
   "metadata": {},
   "source": [
    "# Analysis of N2T prefixes.yaml Source\n",
    "\n",
    "The prefixes file is located at `https://n2t.net/e/n2t_full_prefixes.yaml`\n",
    "\n",
    "Here, the file is retrieved, parsed, and a inspected."
   ]
  },
  {
   "cell_type": "code",
   "execution_count": 2,
   "metadata": {},
   "outputs": [],
   "source": [
    "import os\n",
    "import shutil\n",
    "import requests\n",
    "import yaml\n",
    "\n",
    "PREFIXES_SOURCE = \"https://n2t.net/e/n2t_full_prefixes.yaml\"\n",
    "PREFIXES_CACHE = \"data/n2t_full_prefixes.yaml\"\n",
    "\n",
    "# Download the file if not already present in \"data\" folder.\n",
    "# Delete the file to download a new copy\n",
    "if not os.path.exists(PREFIXES_CACHE):\n",
    "    os.makedirs(\"data\", exist_ok=True)\n",
    "    with requests.get(PREFIXES_SOURCE, stream=True) as src:\n",
    "        with open(PREFIXES_CACHE, \"wb\") as dest:\n",
    "            shutil.copyfileobj(src.raw, dest)\n",
    "\n",
    "# Parse the yaml source into a python dictionary\n",
    "# The load order of dictionary items is preserved in python 3.7+\n",
    "# See: https://docs.python.org/3/whatsnew/3.7.html\n",
    "prefixes = {}\n",
    "with open(PREFIXES_CACHE, \"r\") as prefix_source:\n",
    "    prefixes = yaml.load(prefix_source, Loader=yaml.SafeLoader)\n"
   ]
  },
  {
   "cell_type": "code",
   "execution_count": 8,
   "metadata": {},
   "outputs": [
    {
     "name": "stdout",
     "output_type": "stream",
     "text": [
      "There are 4205 keys.\n",
      "There are 32 distinct fields.\n"
     ]
    },
    {
     "data": {
      "text/markdown": [
       "| Field | Occurrences |\n",
       "| --- | --- |\n",
       "| active | 9 |\n",
       "| alias | 837 |\n",
       "| datacenter | 138 |\n",
       "| date | 1414 |\n",
       "| description | 827 |\n",
       "| for | 120 |\n",
       "| forward | 827 |\n",
       "| how | 23 |\n",
       "| institution | 827 |\n",
       "| is_supershoulder | 12 |\n",
       "| location | 827 |\n",
       "| manager | 1408 |\n",
       "| minter | 461 |\n",
       "| more | 837 |\n",
       "| na_policy | 936 |\n",
       "| name | 2268 |\n",
       "| norm | 3 |\n",
       "| pattern | 826 |\n",
       "| prefix_shares_datacenter | 137 |\n",
       "| prefixed | 827 |\n",
       "| primary | 837 |\n",
       "| probe | 837 |\n",
       "| provider | 827 |\n",
       "| provider_id | 826 |\n",
       "| redirect | 2935 |\n",
       "| registration_agency | 176 |\n",
       "| sort_score | 826 |\n",
       "| state | 826 |\n",
       "| subject | 826 |\n",
       "| synonym | 826 |\n",
       "| test | 837 |\n",
       "| type | 4205 |\n"
      ],
      "text/plain": [
       "<IPython.core.display.Markdown object>"
      ]
     },
     "metadata": {},
     "output_type": "display_data"
    }
   ],
   "source": [
    "from IPython.display import display,Markdown\n",
    "\n",
    "print(f\"There are {len(prefixes.keys())} keys.\")\n",
    "fields = {}\n",
    "for prefix, entry in prefixes.items():\n",
    "    for field in entry.keys():\n",
    "        n = fields.get(field, 0)\n",
    "        n += 1\n",
    "        fields[field] = n\n",
    "print(f\"There are {len(fields.keys())} distinct fields.\")\n",
    "_md = (\n",
    "    \"| Field | Occurrences |\\n\"\n",
    "    \"| --- | --- |\\n\"\n",
    ")\n",
    "for k in sorted(list(fields.keys())):\n",
    "    _md += f\"| {k} | {fields[k]} |\\n\"\n",
    "display(Markdown(_md))\n"
   ]
  }
 ],
 "metadata": {
  "interpreter": {
   "hash": "6f7cad1278ec38856e52a7abc9a17084c7f437ac47f48fb5bcd02e9f3329573c"
  },
  "kernelspec": {
   "display_name": "Python 3.9.5 ('n2t')",
   "language": "python",
   "name": "python3"
  },
  "language_info": {
   "codemirror_mode": {
    "name": "ipython",
    "version": 3
   },
   "file_extension": ".py",
   "mimetype": "text/x-python",
   "name": "python",
   "nbconvert_exporter": "python",
   "pygments_lexer": "ipython3",
   "version": "3.9.5"
  },
  "orig_nbformat": 4
 },
 "nbformat": 4,
 "nbformat_minor": 2
}
