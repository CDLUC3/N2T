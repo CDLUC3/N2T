{
 "cells": [
  {
   "cell_type": "markdown",
   "metadata": {},
   "source": [
    "# Analysis of N2T prefixes.yaml Source\n",
    "\n",
    "The prefixes file is located at `https://n2t.net/e/n2t_full_prefixes.yaml`\n",
    "\n",
    "Here, the file is retrieved, parsed, and a inspected."
   ]
  },
  {
   "cell_type": "code",
   "execution_count": 1,
   "metadata": {},
   "outputs": [],
   "source": [
    "import os\n",
    "import shutil\n",
    "import requests\n",
    "import yaml\n",
    "\n",
    "PREFIXES_SOURCE = \"https://n2t.net/e/n2t_full_prefixes.yaml\"\n",
    "PREFIXES_CACHE = \"data/n2t_full_prefixes.yaml\"\n",
    "\n",
    "# Download the file if not already present in \"data\" folder.\n",
    "# Delete the file to download a new copy\n",
    "if not os.path.exists(PREFIXES_CACHE):\n",
    "    os.makedirs(\"data\", exist_ok=True)\n",
    "    with requests.get(PREFIXES_SOURCE, stream=True) as src:\n",
    "        with open(PREFIXES_CACHE, \"wb\") as dest:\n",
    "            shutil.copyfileobj(src.raw, dest)\n",
    "\n",
    "# Parse the yaml source into a python dictionary\n",
    "# The load order of dictionary items is preserved in python 3.7+\n",
    "# See: https://docs.python.org/3/whatsnew/3.7.html\n",
    "prefixes = {}\n",
    "with open(PREFIXES_CACHE, \"r\") as prefix_source:\n",
    "    prefixes = yaml.load(prefix_source, Loader=yaml.SafeLoader)\n"
   ]
  },
  {
   "cell_type": "code",
   "execution_count": 2,
   "metadata": {},
   "outputs": [
    {
     "name": "stdout",
     "output_type": "stream",
     "text": [
      "There are 4208 keys.\n",
      "There are 32 distinct fields:\n"
     ]
    },
    {
     "data": {
      "text/markdown": [
       "| Row | Field | Occurrences |\n",
       "| --- | --- | --- |\n",
       "| 0 | active | 9 |\n",
       "| 1 | alias | 837 |\n",
       "| 2 | datacenter | 138 |\n",
       "| 3 | date | 1417 |\n",
       "| 4 | description | 827 |\n",
       "| 5 | for | 120 |\n",
       "| 6 | forward | 827 |\n",
       "| 7 | how | 23 |\n",
       "| 8 | institution | 827 |\n",
       "| 9 | is_supershoulder | 12 |\n",
       "| 10 | location | 827 |\n",
       "| 11 | manager | 1411 |\n",
       "| 12 | minter | 461 |\n",
       "| 13 | more | 837 |\n",
       "| 14 | na_policy | 939 |\n",
       "| 15 | name | 2271 |\n",
       "| 16 | norm | 3 |\n",
       "| 17 | pattern | 826 |\n",
       "| 18 | prefix_shares_datacenter | 137 |\n",
       "| 19 | prefixed | 827 |\n",
       "| 20 | primary | 837 |\n",
       "| 21 | probe | 837 |\n",
       "| 22 | provider | 827 |\n",
       "| 23 | provider_id | 826 |\n",
       "| 24 | redirect | 2938 |\n",
       "| 25 | registration_agency | 176 |\n",
       "| 26 | sort_score | 826 |\n",
       "| 27 | state | 826 |\n",
       "| 28 | subject | 826 |\n",
       "| 29 | synonym | 826 |\n",
       "| 30 | test | 837 |\n",
       "| 31 | type | 4208 |\n"
      ],
      "text/plain": [
       "<IPython.core.display.Markdown object>"
      ]
     },
     "metadata": {},
     "output_type": "display_data"
    }
   ],
   "source": [
    "from IPython.display import display,Markdown\n",
    "\n",
    "print(f\"There are {len(prefixes.keys())} keys.\")\n",
    "fields = {}\n",
    "for prefix, entry in prefixes.items():\n",
    "    for field in entry.keys():\n",
    "        n = fields.get(field, 0)\n",
    "        n += 1\n",
    "        fields[field] = n\n",
    "print(f\"There are {len(fields.keys())} distinct fields:\")\n",
    "_md = (\n",
    "    \"| Row | Field | Occurrences |\\n\"\n",
    "    \"| --- | --- | --- |\\n\"\n",
    ")\n",
    "i = 0\n",
    "for k in sorted(list(fields.keys())):    \n",
    "    _md += f\"| {i} | {k} | {fields[k]} |\\n\"\n",
    "    i += 1\n",
    "display(Markdown(_md))\n"
   ]
  },
  {
   "cell_type": "code",
   "execution_count": 3,
   "metadata": {},
   "outputs": [
    {
     "data": {
      "text/markdown": [
       "Number of distinct values in each field:\n",
       "\n",
       "| Field | Distinct |\n",
       "| -- | -- |\n",
       "| active | 1 |\n",
       "| alias | 6 |\n",
       "| datacenter | 11 |\n",
       "| date | 816 |\n",
       "| description | 658 |\n",
       "| for | 120 |\n",
       "| forward | 792 |\n",
       "| how | 10 |\n",
       "| institution | 429 |\n",
       "| is_supershoulder | 1 |\n",
       "| location | 51 |\n",
       "| manager | 4 |\n",
       "| minter | 424 |\n",
       "| more | 697 |\n",
       "| na_policy | 41 |\n",
       "| name | 2169 |\n",
       "| norm | 3 |\n",
       "| pattern | 418 |\n",
       "| prefix_shares_datacenter | 1 |\n",
       "| prefixed | 2 |\n",
       "| primary | 2 |\n",
       "| probe | 835 |\n",
       "| provider | 81 |\n",
       "| provider_id | 826 |\n",
       "| redirect | 2311 |\n",
       "| registration_agency | 2 |\n",
       "| sort_score | 6 |\n",
       "| state | 127 |\n",
       "| subject | 350 |\n",
       "| synonym | 252 |\n",
       "| test | 667 |\n",
       "| type | 6 |"
      ],
      "text/plain": [
       "<IPython.core.display.Markdown object>"
      ]
     },
     "metadata": {},
     "output_type": "display_data"
    }
   ],
   "source": [
    "#examine_fields = {\"active\":{}, \"alias\": {}, \"datacenter\": {}, \"how\":{}, \"is_supershoulder\":{}, \"norm\":{}, }\n",
    "examine_fields = {}\n",
    "for f in fields:\n",
    "    examine_fields[f] = {}\n",
    "for prefix, entry in prefixes.items():\n",
    "    for f, fv in examine_fields.items():\n",
    "        v = entry.get(f, None)\n",
    "        if v is not None:\n",
    "            n = fv.get(v, 0)\n",
    "            examine_fields[f][v] = n+1\n",
    "\n",
    "md = [\n",
    "    \"Number of distinct values in each field:\",\n",
    "    \"\",\n",
    "    \"| Field | Distinct |\",\n",
    "    \"| -- | -- |\",\n",
    "]\n",
    "for ef in sorted(list(examine_fields.keys())):\n",
    "    f = examine_fields[ef]\n",
    "    md.append(f\"| {ef} | {len(f.keys())} |\")\n",
    "display(Markdown(\"\\n\".join(md)))\n",
    "\n"
   ]
  },
  {
   "cell_type": "code",
   "execution_count": 35,
   "metadata": {},
   "outputs": [
    {
     "data": {
      "text/markdown": [
       "| Field | Values | Count |\n",
       "| -- | -- | -- |\n",
       "| active | <code>false</code> | 9 |\n",
       "| alias | <code>handle</code> | 1 |\n",
       "| datacenter | <code>CDL.UCSC</code> | 4 |\n",
       "| date | <code>2017.02.17</code> | 1 |\n",
       "| description | <code>Uniform Resource Names (URNs) are intended to serve as persistent, location-independent, resource identifiers.</code> | 1 |\n",
       "| for | <code>chebi</code> | 1 |\n",
       "| forward | <code>http://nbn-resolving.org/resolver?identifier=urn:${ac}&verb=redirect</code> | 1 |\n",
       "| how | <code>NP &#124; NR, OP, CC &#124; 2010 &#124;</code> | 1 |\n",
       "| institution | <code>Deutsche Nationalbibliothek, Frankfurt</code> | 2 |\n",
       "| is_supershoulder | <code>true</code> | 12 |\n",
       "| location | <code>Germany</code> | 38 |\n",
       "| manager | <code>n2t</code> | 939 |\n",
       "| minter | <code>https://n2t.net/a/ezid/m/ark/63614/w1</code> | 1 |\n",
       "| more | <code>https://wiki.ucop.edu/display/Curation/ARK</code> | 1 |\n",
       "| na_policy | <code>NP &#124; (:unkn) unknown &#124; 2001 &#124;</code> | 3 |\n",
       "| name | <code>Archival Resource Key</code> | 1 |\n",
       "| norm | <code>mc</code> | 1 |\n",
       "| pattern | <code>^urn\\:nbn\\:[A-Za-z_0-9]+\\:([A-Za-z_0-9]+)-[A-Za-z_0-9]+$</code> | 1 |\n",
       "| prefix_shares_datacenter | <code>true</code> | 137 |\n",
       "| prefixed | <code>false</code> | 751 |\n",
       "| primary | <code>true</code> | 116 |\n",
       "| probe | <code>http://n2t.net/ark:/88435/hq37vq534</code> | 1 |\n",
       "| provider | <code>n2t</code> | 1 |\n",
       "| provider_id | <code>MIR:00100488</code> | 1 |\n",
       "| redirect | <code>n2t.net/ark:$id</code> | 1 |\n",
       "| registration_agency | <code>crossref</code> | 38 |\n",
       "| sort_score | <code>1</code> | 267 |\n",
       "| state | <code>99:Unknown</code> | 3 |\n",
       "| subject | <code>bibliography</code> | 10 |\n",
       "| synonym | <code>NBN</code> | 1 |\n",
       "| test | <code>/88435/hq37vq534</code> | 1 |\n",
       "| type | <code>scheme</code> | 837 |"
      ],
      "text/plain": [
       "<IPython.core.display.Markdown object>"
      ]
     },
     "metadata": {},
     "output_type": "display_data"
    }
   ],
   "source": [
    "md = [\n",
    "    \"| Field | Values | Count |\",\n",
    "    \"| -- | -- | -- |\",\n",
    "]\n",
    "for ef in sorted(list(examine_fields.keys())):\n",
    "    f = examine_fields[ef]\n",
    "    c = 0\n",
    "    for k,v in f.items():\n",
    "        k = str(k)\n",
    "        k = k.replace(\"|\", \"&#124;\")\n",
    "        k = f\"<code>{k}</code>\"\n",
    "        row = f\"| {ef} | {k} | {v} |\"\n",
    "        if c < 1:\n",
    "            md.append(row)\n",
    "        #if c == 1:\n",
    "        #    md.append(f\"| | ... | |\")\n",
    "        c += 1        \n",
    "display(Markdown(\"\\n\".join(md)))"
   ]
  }
 ],
 "metadata": {
  "interpreter": {
   "hash": "6f7cad1278ec38856e52a7abc9a17084c7f437ac47f48fb5bcd02e9f3329573c"
  },
  "kernelspec": {
   "display_name": "Python 3.9.5 ('n2t')",
   "language": "python",
   "name": "python3"
  },
  "language_info": {
   "codemirror_mode": {
    "name": "ipython",
    "version": 3
   },
   "file_extension": ".py",
   "mimetype": "text/x-python",
   "name": "python",
   "nbconvert_exporter": "python",
   "pygments_lexer": "ipython3",
   "version": "3.9.5"
  },
  "orig_nbformat": 4
 },
 "nbformat": 4,
 "nbformat_minor": 2
}
