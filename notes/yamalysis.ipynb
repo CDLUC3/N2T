{
 "cells": [
  {
   "cell_type": "markdown",
   "metadata": {},
   "source": [
    "# Analysis of N2T prefixes.yaml Source\n",
    "\n",
    "The prefixes file is located at `https://n2t.net/e/n2t_full_prefixes.yaml`\n",
    "\n",
    "Here, the file is retrieved, parsed, and a inspected."
   ]
  },
  {
   "cell_type": "code",
   "execution_count": 5,
   "metadata": {},
   "outputs": [],
   "source": [
    "import os\n",
    "import shutil\n",
    "import requests\n",
    "import yaml\n",
    "\n",
    "PREFIXES_SOURCE = \"https://n2t.net/e/n2t_full_prefixes.yaml\"\n",
    "PREFIXES_CACHE = \"data/n2t_full_prefixes.yaml\"\n",
    "\n",
    "# Download the file if not already present in \"data\" folder.\n",
    "# Delete the file to download a new copy\n",
    "if not os.path.exists(PREFIXES_CACHE):\n",
    "    os.makedirs(\"data\", exist_ok=True)\n",
    "    with requests.get(PREFIXES_SOURCE, stream=True) as src:\n",
    "        with open(PREFIXES_CACHE, \"wb\") as dest:\n",
    "            shutil.copyfileobj(src.raw, dest)\n",
    "\n",
    "# Parse the yaml source into a python dictionary\n",
    "# The load order of dictionary items is preserved in python 3.7+\n",
    "# See: https://docs.python.org/3/whatsnew/3.7.html\n",
    "prefixes = {}\n",
    "with open(PREFIXES_CACHE, \"r\") as prefix_source:\n",
    "    prefixes = yaml.load(prefix_source, Loader=yaml.SafeLoader)\n"
   ]
  },
  {
   "cell_type": "code",
   "execution_count": 6,
   "metadata": {},
   "outputs": [
    {
     "name": "stdout",
     "output_type": "stream",
     "text": [
      "There are 4205 keys.\n",
      "There are 32 distinct fields:\n"
     ]
    },
    {
     "data": {
      "text/markdown": [
       "| Row | Field | Occurrences |\n",
       "| --- | --- | --- |\n",
       "| 0 | active | 9 |\n",
       "| 1 | alias | 837 |\n",
       "| 2 | datacenter | 138 |\n",
       "| 3 | date | 1414 |\n",
       "| 4 | description | 827 |\n",
       "| 5 | for | 120 |\n",
       "| 6 | forward | 827 |\n",
       "| 7 | how | 23 |\n",
       "| 8 | institution | 827 |\n",
       "| 9 | is_supershoulder | 12 |\n",
       "| 10 | location | 827 |\n",
       "| 11 | manager | 1408 |\n",
       "| 12 | minter | 461 |\n",
       "| 13 | more | 837 |\n",
       "| 14 | na_policy | 936 |\n",
       "| 15 | name | 2268 |\n",
       "| 16 | norm | 3 |\n",
       "| 17 | pattern | 826 |\n",
       "| 18 | prefix_shares_datacenter | 137 |\n",
       "| 19 | prefixed | 827 |\n",
       "| 20 | primary | 837 |\n",
       "| 21 | probe | 837 |\n",
       "| 22 | provider | 827 |\n",
       "| 23 | provider_id | 826 |\n",
       "| 24 | redirect | 2935 |\n",
       "| 25 | registration_agency | 176 |\n",
       "| 26 | sort_score | 826 |\n",
       "| 27 | state | 826 |\n",
       "| 28 | subject | 826 |\n",
       "| 29 | synonym | 826 |\n",
       "| 30 | test | 837 |\n",
       "| 31 | type | 4205 |\n"
      ],
      "text/plain": [
       "<IPython.core.display.Markdown object>"
      ]
     },
     "metadata": {},
     "output_type": "display_data"
    }
   ],
   "source": [
    "from IPython.display import display,Markdown\n",
    "\n",
    "print(f\"There are {len(prefixes.keys())} keys.\")\n",
    "fields = {}\n",
    "for prefix, entry in prefixes.items():\n",
    "    for field in entry.keys():\n",
    "        n = fields.get(field, 0)\n",
    "        n += 1\n",
    "        fields[field] = n\n",
    "print(f\"There are {len(fields.keys())} distinct fields:\")\n",
    "_md = (\n",
    "    \"| Row | Field | Occurrences |\\n\"\n",
    "    \"| --- | --- | --- |\\n\"\n",
    ")\n",
    "i = 0\n",
    "for k in sorted(list(fields.keys())):    \n",
    "    _md += f\"| {i} | {k} | {fields[k]} |\\n\"\n",
    "    i += 1\n",
    "display(Markdown(_md))\n"
   ]
  }
 ],
 "metadata": {
  "interpreter": {
   "hash": "6f7cad1278ec38856e52a7abc9a17084c7f437ac47f48fb5bcd02e9f3329573c"
  },
  "kernelspec": {
   "display_name": "Python 3.9.5 ('n2t')",
   "language": "python",
   "name": "python3"
  },
  "language_info": {
   "codemirror_mode": {
    "name": "ipython",
    "version": 3
   },
   "file_extension": ".py",
   "mimetype": "text/x-python",
   "name": "python",
   "nbconvert_exporter": "python",
   "pygments_lexer": "ipython3",
   "version": "3.9.5"
  },
  "orig_nbformat": 4
 },
 "nbformat": 4,
 "nbformat_minor": 2
}
